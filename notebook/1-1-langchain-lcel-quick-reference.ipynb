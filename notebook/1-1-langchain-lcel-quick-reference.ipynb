{
 "cells": [
  {
   "cell_type": "code",
   "execution_count": 20,
   "metadata": {
    "_cell_guid": "b4277a0b-4ca4-4f76-89fd-22bc4239a352",
    "_uuid": "48675964-2651-48af-85cb-fc7c910732d2",
    "collapsed": false,
    "execution": {
     "iopub.execute_input": "2025-02-25T16:01:00.418313Z",
     "iopub.status.busy": "2025-02-25T16:01:00.417796Z",
     "iopub.status.idle": "2025-02-25T16:01:14.307061Z",
     "shell.execute_reply": "2025-02-25T16:01:14.305724Z",
     "shell.execute_reply.started": "2025-02-25T16:01:00.418274Z"
    },
    "jupyter": {
     "outputs_hidden": false
    },
    "trusted": true
   },
   "outputs": [],
   "source": [
    "!pip install -qU langchain_community\n",
    "!pip install -qU langchain_experimental\n",
    "!pip install -qU grandalf"
   ]
  },
  {
   "cell_type": "markdown",
   "metadata": {
    "_cell_guid": "e15ea902-b850-4239-a0f0-6e6ecbbdd0d6",
    "_uuid": "59f9182a-d37a-4f9c-984d-6f7a90847740",
    "collapsed": false,
    "jupyter": {
     "outputs_hidden": false
    },
    "trusted": true
   },
   "source": [
    "---\n",
    "#\n",
    "## **1. 核心组成和链接**\n",
    "这些示例重点介绍 LCEL 的基本构建块，例如链接和组合 Runnables。\n",
    "#\n",
    "### **1.1. 基本 Runnable 组合**\n",
    "使用管道 (`|`) 运算符将两个简单的函数链接在一起。"
   ]
  },
  {
   "cell_type": "code",
   "execution_count": 21,
   "metadata": {
    "_cell_guid": "72bfc5bf-1a6a-487c-b6e0-51595c13c3d9",
    "_uuid": "7db221ba-9355-4564-899e-8698e5ac8b15",
    "collapsed": false,
    "execution": {
     "iopub.execute_input": "2025-02-25T16:01:14.309022Z",
     "iopub.status.busy": "2025-02-25T16:01:14.308663Z",
     "iopub.status.idle": "2025-02-25T16:01:14.318424Z",
     "shell.execute_reply": "2025-02-25T16:01:14.317258Z",
     "shell.execute_reply.started": "2025-02-25T16:01:14.308993Z"
    },
    "jupyter": {
     "outputs_hidden": false
    },
    "trusted": true
   },
   "outputs": [
    {
     "name": "stdout",
     "output_type": "stream",
     "text": [
      "16\n"
     ]
    }
   ],
   "source": [
    "from langchain_core.runnables import RunnableLambda\n",
    "\n",
    "# 定义两个简单的函数\n",
    "add_five = RunnableLambda(lambda x: x + 5)\n",
    "multiply_by_two = RunnableLambda(lambda x: x * 2)\n",
    "\n",
    "# 将它们链接在一起\n",
    "chain = add_five | multiply_by_two\n",
    "print(chain.invoke(3))"
   ]
  },
  {
   "cell_type": "markdown",
   "metadata": {
    "_cell_guid": "c6cf0ac6-2867-4c99-8283-74c8ce0c6ff3",
    "_uuid": "a1a216e1-d0a6-44d5-b776-46c8900c8a25",
    "collapsed": false,
    "jupyter": {
     "outputs_hidden": false
    },
    "trusted": true
   },
   "source": [
    "### **1.2. 并行执行**\n",
    "并行运行多个 Runnables 并组合它们的输出。"
   ]
  },
  {
   "cell_type": "code",
   "execution_count": 22,
   "metadata": {
    "_cell_guid": "f0466cc3-5a4d-40cf-9a98-74f36d28fc6a",
    "_uuid": "70fdd75c-1942-49db-bb9e-213d4171c4fd",
    "collapsed": false,
    "execution": {
     "iopub.execute_input": "2025-02-25T16:01:14.320498Z",
     "iopub.status.busy": "2025-02-25T16:01:14.320217Z",
     "iopub.status.idle": "2025-02-25T16:01:14.341479Z",
     "shell.execute_reply": "2025-02-25T16:01:14.340519Z",
     "shell.execute_reply.started": "2025-02-25T16:01:14.320475Z"
    },
    "jupyter": {
     "outputs_hidden": false
    },
    "trusted": true
   },
   "outputs": [
    {
     "name": "stdout",
     "output_type": "stream",
     "text": [
      "{'add': 8, 'multiply': 6}\n"
     ]
    }
   ],
   "source": [
    "from langchain_core.runnables import RunnableLambda, RunnableParallel\n",
    "\n",
    "# 定义两个函数\n",
    "add_five = RunnableLambda(lambda x: x + 5)\n",
    "multiply_by_two = RunnableLambda(lambda x: x * 2)\n",
    "\n",
    "# 并行运行它们\n",
    "chain = RunnableParallel(add=add_five, multiply=multiply_by_two)\n",
    "print(chain.invoke(3))"
   ]
  },
  {
   "cell_type": "markdown",
   "metadata": {
    "_cell_guid": "ef3896c0-ca88-41bc-ac63-57c12564d97c",
    "_uuid": "72cd13f8-d87d-49d5-97b4-afc76f47fd94",
    "collapsed": false,
    "jupyter": {
     "outputs_hidden": false
    },
    "trusted": true
   },
   "source": [
    "### **1.3. 条件逻辑**\n",
    "根据输入动态选择要执行的 Runnable。"
   ]
  },
  {
   "cell_type": "code",
   "execution_count": 23,
   "metadata": {
    "_cell_guid": "0bdf2c44-88bc-4e59-8429-151cda18dc69",
    "_uuid": "7ddd177b-4190-4c11-abaa-4b91760a6597",
    "collapsed": false,
    "execution": {
     "iopub.execute_input": "2025-02-25T16:01:14.343378Z",
     "iopub.status.busy": "2025-02-25T16:01:14.343050Z",
     "iopub.status.idle": "2025-02-25T16:01:14.360913Z",
     "shell.execute_reply": "2025-02-25T16:01:14.359417Z",
     "shell.execute_reply.started": "2025-02-25T16:01:14.343350Z"
    },
    "jupyter": {
     "outputs_hidden": false
    },
    "trusted": true
   },
   "outputs": [
    {
     "name": "stdout",
     "output_type": "stream",
     "text": [
      "20\n",
      "10\n"
     ]
    }
   ],
   "source": [
    "from langchain_core.runnables import RunnableLambda\n",
    "\n",
    "# 定义两个函数\n",
    "add_five = RunnableLambda(lambda x: x + 5)\n",
    "multiply_by_two = RunnableLambda(lambda x: x * 2)\n",
    "\n",
    "# 根据输入选择要运行的函数\n",
    "chain = RunnableLambda(lambda x: add_five if x > 10 else multiply_by_two)\n",
    "print(chain.invoke(15))\n",
    "print(chain.invoke(5))"
   ]
  },
  {
   "cell_type": "markdown",
   "metadata": {
    "_cell_guid": "65cc48ea-beb8-4e6c-b40f-06dbef08d225",
    "_uuid": "db20bd33-be83-42bc-b8eb-966623c58cde",
    "collapsed": false,
    "jupyter": {
     "outputs_hidden": false
    },
    "trusted": true
   },
   "source": [
    "### **1.4. 动态链构建**\n",
    "根据输入动态构建链。"
   ]
  },
  {
   "cell_type": "code",
   "execution_count": 24,
   "metadata": {
    "_cell_guid": "81b37714-32ea-4d3f-a774-da7c29569912",
    "_uuid": "332d3781-044f-4de0-a505-0a41aab7f799",
    "collapsed": false,
    "execution": {
     "iopub.execute_input": "2025-02-25T16:01:14.362327Z",
     "iopub.status.busy": "2025-02-25T16:01:14.362017Z",
     "iopub.status.idle": "2025-02-25T16:01:14.387770Z",
     "shell.execute_reply": "2025-02-25T16:01:14.386588Z",
     "shell.execute_reply.started": "2025-02-25T16:01:14.362299Z"
    },
    "jupyter": {
     "outputs_hidden": false
    },
    "trusted": true
   },
   "outputs": [
    {
     "name": "stdout",
     "output_type": "stream",
     "text": [
      "20\n",
      "10\n"
     ]
    }
   ],
   "source": [
    "from langchain_core.runnables import RunnableLambda\n",
    "\n",
    "# 定义函数\n",
    "add_five = RunnableLambda(lambda x: x + 5)\n",
    "multiply_by_two = RunnableLambda(lambda x: x * 2)\n",
    "\n",
    "# 动态构建链\n",
    "chain = RunnableLambda(lambda x: add_five if x > 10 else multiply_by_two)\n",
    "print(chain.invoke(15))\n",
    "print(chain.invoke(5))"
   ]
  },
  {
   "cell_type": "markdown",
   "metadata": {
    "_cell_guid": "a5e91dc5-a91b-4581-b530-743079664efe",
    "_uuid": "dcc65cfe-db66-427d-97b6-a77c372b0c8b",
    "collapsed": false,
    "jupyter": {
     "outputs_hidden": false
    },
    "trusted": true
   },
   "source": [
    "---\n",
    "#\n",
    "## **2. 错误处理和鲁棒性**\n",
    "这些示例演示如何处理错误并使工作流程更健壮。\n",
    "#\n",
    "### **2.1. 回退机制**\n",
    "提供回退 Runnables，以防主要的 Runnable 失败。"
   ]
  },
  {
   "cell_type": "markdown",
   "metadata": {
    "_cell_guid": "aaa9a59f-c403-4d16-95e1-e9fc6c65c2e5",
    "_uuid": "e5335498-89ad-4d88-ad4d-f881c41dfbf4",
    "collapsed": false,
    "jupyter": {
     "outputs_hidden": false
    },
    "trusted": true
   },
   "source": [
    "### **2.2. 重试机制**\n",
    "如果 Runnable 失败，则重试指定的次数。"
   ]
  },
  {
   "cell_type": "code",
   "execution_count": 25,
   "metadata": {
    "_cell_guid": "75fbe112-82cd-47af-90ca-9baa2af5c3b5",
    "_uuid": "3a7c95e8-a435-4d7c-afe3-35c385d61145",
    "collapsed": false,
    "execution": {
     "iopub.execute_input": "2025-02-25T16:01:14.389325Z",
     "iopub.status.busy": "2025-02-25T16:01:14.389020Z",
     "iopub.status.idle": "2025-02-25T16:01:16.296638Z",
     "shell.execute_reply": "2025-02-25T16:01:16.295544Z",
     "shell.execute_reply.started": "2025-02-25T16:01:14.389297Z"
    },
    "jupyter": {
     "outputs_hidden": false
    },
    "trusted": true
   },
   "outputs": [
    {
     "name": "stdout",
     "output_type": "stream",
     "text": [
      "15\n"
     ]
    }
   ],
   "source": [
    "from langchain_core.runnables import RunnableLambda\n",
    "\n",
    "# 定义一个在第一次尝试时失败的函数\n",
    "counter = 0\n",
    "def faulty_function(x):\n",
    "    global counter\n",
    "    counter += 1\n",
    "    if counter < 2:\n",
    "        raise ValueError(\"Failed!\")\n",
    "    return x + 5\n",
    "\n",
    "# 创建一个带有重试的 Runnable\n",
    "runnable = RunnableLambda(faulty_function).with_retry(stop_after_attempt=3)\n",
    "print(runnable.invoke(10))  # (第二次尝试成功)"
   ]
  },
  {
   "cell_type": "markdown",
   "metadata": {
    "_cell_guid": "da8b452a-a871-4618-afa3-ff2ec4dc78e4",
    "_uuid": "54d52844-b95c-4515-b62d-0d7cae6d04c5",
    "collapsed": false,
    "jupyter": {
     "outputs_hidden": false
    },
    "trusted": true
   },
   "source": [
    "---\n",
    "#\n",
    "## **3. 输入和输出操作**\n",
    "这些示例展示如何在链中操作输入和输出。\n",
    "#\n",
    "### **3.1. 并行执行和输入操作**\n",
    "并行运行多个 Runnables，将输入不变地传递给一个，并修改它以传递给另一个。"
   ]
  },
  {
   "cell_type": "code",
   "execution_count": 26,
   "metadata": {
    "_cell_guid": "5375ac20-87c3-4ca1-89a1-ee5002fdb699",
    "_uuid": "8ce16f4c-b782-4d80-ab7e-03a05aa6533c",
    "collapsed": false,
    "execution": {
     "iopub.execute_input": "2025-02-25T16:01:16.298108Z",
     "iopub.status.busy": "2025-02-25T16:01:16.297796Z",
     "iopub.status.idle": "2025-02-25T16:01:16.308315Z",
     "shell.execute_reply": "2025-02-25T16:01:16.307094Z",
     "shell.execute_reply.started": "2025-02-25T16:01:16.298078Z"
    },
    "jupyter": {
     "outputs_hidden": false
    },
    "trusted": true
   },
   "outputs": [
    {
     "name": "stdout",
     "output_type": "stream",
     "text": [
      "{'passed': {'num': 1}, 'modified': 2}\n"
     ]
    }
   ],
   "source": [
    "from langchain_core.runnables import RunnableParallel, RunnablePassthrough\n",
    "\n",
    "# 创建一个 RunnableParallel 实例\n",
    "runnable = RunnableParallel(\n",
    "    passed=RunnablePassthrough(),  # 不变地传递输入\n",
    "    modified=lambda x: x[\"num\"] + 1  # 将输入的 \"num\" 键加 1\n",
    ")\n",
    "\n",
    "# 使用输入调用 runnable\n",
    "result = runnable.invoke({\"num\": 1})\n",
    "print(result)"
   ]
  },
  {
   "cell_type": "markdown",
   "metadata": {
    "_cell_guid": "81b35e56-2866-45f8-9b79-495365c41308",
    "_uuid": "ba172920-cbf5-4879-993b-16b61cd7f178",
    "collapsed": false,
    "jupyter": {
     "outputs_hidden": false
    },
    "trusted": true
   },
   "source": [
    "### **3.2. 动态输入修改**\n",
    "在将输入传递给下一个 Runnable 之前动态修改输入。"
   ]
  },
  {
   "cell_type": "code",
   "execution_count": 27,
   "metadata": {
    "_cell_guid": "59fcc60d-9308-4adf-944f-4bd7a27fd053",
    "_uuid": "3bf5f3e6-a650-4bd0-b330-de374d496202",
    "collapsed": false,
    "execution": {
     "iopub.execute_input": "2025-02-25T16:01:16.309978Z",
     "iopub.status.busy": "2025-02-25T16:01:16.309540Z",
     "iopub.status.idle": "2025-02-25T16:01:16.331920Z",
     "shell.execute_reply": "2025-02-25T16:01:16.330898Z",
     "shell.execute_reply.started": "2025-02-25T16:01:16.309943Z"
    },
    "jupyter": {
     "outputs_hidden": false
    },
    "trusted": true
   },
   "outputs": [
    {
     "name": "stdout",
     "output_type": "stream",
     "text": [
      "11\n"
     ]
    }
   ],
   "source": [
    "from langchain_core.runnables import RunnableLambda, RunnablePassthrough\n",
    "\n",
    "# 定义一个将数字输入加 5 的函数\n",
    "add_five = RunnableLambda(lambda x: x + 5)\n",
    "\n",
    "# 动态修改输入并将修改后的输入传递给 add_five\n",
    "chain = (\n",
    "    RunnablePassthrough.assign(modified_input=lambda x: x[\"input\"] * 2)  # 将输入乘以 2\n",
    "    | RunnableLambda(lambda x: add_five.invoke(x[\"modified_input\"]))  # 将修改后的输入加 5\n",
    ")\n",
    "\n",
    "# 调用链\n",
    "result = chain.invoke({\"input\": 3})\n",
    "print(result)"
   ]
  },
  {
   "cell_type": "markdown",
   "metadata": {
    "_cell_guid": "956adb20-1e7e-49a4-80cd-35e6e3865a5f",
    "_uuid": "7a2122e6-8315-4470-8286-98d7c158c4d8",
    "collapsed": false,
    "jupyter": {
     "outputs_hidden": false
    },
    "trusted": true
   },
   "source": [
    "### **3.3. 输出子集**\n",
    "提取输出字典的特定子集。"
   ]
  },
  {
   "cell_type": "code",
   "execution_count": 28,
   "metadata": {
    "_cell_guid": "81860a40-ff06-4646-be98-2e19fe308125",
    "_uuid": "391b5b8e-2148-4394-9313-19f127d8ed41",
    "collapsed": false,
    "execution": {
     "iopub.execute_input": "2025-02-25T16:01:16.335177Z",
     "iopub.status.busy": "2025-02-25T16:01:16.334872Z",
     "iopub.status.idle": "2025-02-25T16:01:16.357508Z",
     "shell.execute_reply": "2025-02-25T16:01:16.356215Z",
     "shell.execute_reply.started": "2025-02-25T16:01:16.335149Z"
    },
    "jupyter": {
     "outputs_hidden": false
    },
    "trusted": true
   },
   "outputs": [
    {
     "name": "stdout",
     "output_type": "stream",
     "text": [
      "{'result': 15}\n"
     ]
    }
   ],
   "source": [
    "from langchain_core.runnables import RunnableLambda, RunnablePassthrough\n",
    "\n",
    "# 定义一个将数字输入加 5 的函数\n",
    "add_five = RunnableLambda(lambda x: x + 5)\n",
    "\n",
    "# 仅从输出中提取 \"result\" 键\n",
    "chain = RunnablePassthrough.assign(result=lambda x: add_five.invoke(x[\"input\"])).pick([\"result\"])\n",
    "\n",
    "# 使用字典输入调用链\n",
    "result = chain.invoke({\"input\": 10})\n",
    "print(result)"
   ]
  },
  {
   "cell_type": "markdown",
   "metadata": {
    "_cell_guid": "48700946-95a4-4df7-80c8-98bb0d17244d",
    "_uuid": "c82a72f5-394e-4417-8443-bf33c71f2089",
    "collapsed": false,
    "jupyter": {
     "outputs_hidden": false
    },
    "trusted": true
   },
   "source": [
    "### **3.4. 嵌套输入操作**\n",
    "修改输入并将新键添加到输出字典。"
   ]
  },
  {
   "cell_type": "code",
   "execution_count": 29,
   "metadata": {
    "_cell_guid": "5efa6f29-2138-4499-a676-c4fe36c0af5d",
    "_uuid": "2079dc60-ba03-4a7f-b336-1f5b5d30aeb1",
    "collapsed": false,
    "execution": {
     "iopub.execute_input": "2025-02-25T16:01:16.359799Z",
     "iopub.status.busy": "2025-02-25T16:01:16.359284Z",
     "iopub.status.idle": "2025-02-25T16:01:16.385632Z",
     "shell.execute_reply": "2025-02-25T16:01:16.384238Z",
     "shell.execute_reply.started": "2025-02-25T16:01:16.359742Z"
    },
    "jupyter": {
     "outputs_hidden": false
    },
    "trusted": true
   },
   "outputs": [
    {
     "name": "stdout",
     "output_type": "stream",
     "text": [
      "{'extra': {'num': 1, 'multi': 3}, 'modified': 2}\n"
     ]
    }
   ],
   "source": [
    "from langchain_core.runnables import RunnableParallel, RunnablePassthrough\n",
    "\n",
    "# 创建一个 RunnableParallel 实例\n",
    "runnable = RunnableParallel(\n",
    "    extra=RunnablePassthrough.assign(multi=lambda x: x[\"num\"] * 3),  # 添加一个新键 'multi'\n",
    "    modified=lambda x: x[\"num\"] + 1  # 将输入的 \"num\" 键加 1\n",
    ")\n",
    "\n",
    "# 使用输入调用 runnable\n",
    "result = runnable.invoke({\"num\": 1})\n",
    "print(result)"
   ]
  },
  {
   "cell_type": "markdown",
   "metadata": {
    "_cell_guid": "52d3addd-c455-4834-9bbe-f943d2df9915",
    "_uuid": "22decdc5-f6cf-42de-ae99-e923deed6f72",
    "collapsed": false,
    "jupyter": {
     "outputs_hidden": false
    },
    "trusted": true
   },
   "source": [
    "---\n",
    "#\n",
    "## **4. 批量和流式传输**\n",
    "这些示例重点介绍处理多个输入或流式传输输出。\n",
    "#\n",
    "### **4.1. 流式传输输出**\n",
    "从 Runnable 中流式传输结果，因为它们是生成的。"
   ]
  },
  {
   "cell_type": "code",
   "execution_count": 30,
   "metadata": {
    "_cell_guid": "a72f9245-4055-4ba8-b8cd-90c5b94636ed",
    "_uuid": "92b6aad2-2499-43fd-a309-c82110652d73",
    "collapsed": false,
    "execution": {
     "iopub.execute_input": "2025-02-25T16:01:16.387504Z",
     "iopub.status.busy": "2025-02-25T16:01:16.387035Z",
     "iopub.status.idle": "2025-02-25T16:01:16.409246Z",
     "shell.execute_reply": "2025-02-25T16:01:16.407993Z",
     "shell.execute_reply.started": "2025-02-25T16:01:16.387457Z"
    },
    "jupyter": {
     "outputs_hidden": false
    },
    "trusted": true
   },
   "outputs": [
    {
     "name": "stdout",
     "output_type": "stream",
     "text": [
      "0\n",
      "1\n",
      "2\n",
      "3\n",
      "4\n"
     ]
    }
   ],
   "source": [
    "from langchain_core.runnables import RunnableLambda\n",
    "\n",
    "# 定义一个递增地产生结果的函数\n",
    "def generate_numbers(x):\n",
    "    for i in range(x):\n",
    "        yield i\n",
    "\n",
    "# 创建一个 Runnable\n",
    "runnable = RunnableLambda(generate_numbers)\n",
    "\n",
    "# 流式传输结果\n",
    "for chunk in runnable.stream(5):\n",
    "    print(chunk)"
   ]
  },
  {
   "cell_type": "markdown",
   "metadata": {
    "_cell_guid": "ba59d21e-ae92-4ce4-abcc-a125c564d177",
    "_uuid": "44980ab8-cd8a-4f61-bf9d-f4ba60f0de80",
    "collapsed": false,
    "jupyter": {
     "outputs_hidden": false
    },
    "trusted": true
   },
   "source": [
    "### **4.2. 批量处理**\n",
    "并行处理一批输入。"
   ]
  },
  {
   "cell_type": "code",
   "execution_count": 31,
   "metadata": {
    "_cell_guid": "35eb96c4-2250-4051-a810-cdb2baa29b26",
    "_uuid": "6c4a6472-0d05-4a40-b734-02b273582e30",
    "collapsed": false,
    "execution": {
     "iopub.execute_input": "2025-02-25T16:01:16.411488Z",
     "iopub.status.busy": "2025-02-25T16:01:16.410963Z",
     "iopub.status.idle": "2025-02-25T16:01:16.431334Z",
     "shell.execute_reply": "2025-02-25T16:01:16.429681Z",
     "shell.execute_reply.started": "2025-02-25T16:01:16.411439Z"
    },
    "jupyter": {
     "outputs_hidden": false
    },
    "trusted": true
   },
   "outputs": [
    {
     "name": "stdout",
     "output_type": "stream",
     "text": [
      "[6, 7, 8]\n"
     ]
    }
   ],
   "source": [
    "from langchain_core.runnables import RunnableLambda\n",
    "\n",
    "# 定义一个函数\n",
    "add_five = RunnableLambda(lambda x: x + 5)\n",
    "\n",
    "# 处理一批输入\n",
    "results = add_five.batch([1, 2, 3])\n",
    "print(results)"
   ]
  },
  {
   "cell_type": "markdown",
   "metadata": {
    "_cell_guid": "cb427770-e28a-476b-84aa-f346d85f3a90",
    "_uuid": "9d410a2b-9445-48ff-be88-5be146791317",
    "collapsed": false,
    "jupyter": {
     "outputs_hidden": false
    },
    "trusted": true
   },
   "source": [
    "### **4.3. 事件流式传输**\n",
    "从 Runnable 的执行中流式传输事件。"
   ]
  },
  {
   "cell_type": "code",
   "execution_count": 32,
   "metadata": {
    "_cell_guid": "ae30b87e-69d4-4e9a-a892-a1ff527a5bce",
    "_uuid": "f7c79a01-2b40-44de-8326-410ce8260e42",
    "collapsed": false,
    "execution": {
     "iopub.execute_input": "2025-02-25T16:01:16.433135Z",
     "iopub.status.busy": "2025-02-25T16:01:16.432734Z",
     "iopub.status.idle": "2025-02-25T16:01:16.456878Z",
     "shell.execute_reply": "2025-02-25T16:01:16.455407Z",
     "shell.execute_reply.started": "2025-02-25T16:01:16.433095Z"
    },
    "jupyter": {
     "outputs_hidden": false
    },
    "trusted": true
   },
   "outputs": [
    {
     "name": "stdout",
     "output_type": "stream",
     "text": [
      "{'event': 'on_chain_start', 'data': {'input': 5}, 'name': 'generate_numbers', 'tags': [], 'run_id': 'b71fc9f8-f828-460b-827d-e5f3f15baa95', 'metadata': {}, 'parent_ids': []}\n",
      "{'event': 'on_chain_stream', 'run_id': 'b71fc9f8-f828-460b-827d-e5f3f15baa95', 'name': 'generate_numbers', 'tags': [], 'metadata': {}, 'data': {'chunk': 0}, 'parent_ids': []}\n",
      "{'event': 'on_chain_stream', 'run_id': 'b71fc9f8-f828-460b-827d-e5f3f15baa95', 'name': 'generate_numbers', 'tags': [], 'metadata': {}, 'data': {'chunk': 1}, 'parent_ids': []}\n",
      "{'event': 'on_chain_stream', 'run_id': 'b71fc9f8-f828-460b-827d-e5f3f15baa95', 'name': 'generate_numbers', 'tags': [], 'metadata': {}, 'data': {'chunk': 2}, 'parent_ids': []}\n",
      "{'event': 'on_chain_stream', 'run_id': 'b71fc9f8-f828-460b-827d-e5f3f15baa95', 'name': 'generate_numbers', 'tags': [], 'metadata': {}, 'data': {'chunk': 3}, 'parent_ids': []}\n",
      "{'event': 'on_chain_stream', 'run_id': 'b71fc9f8-f828-460b-827d-e5f3f15baa95', 'name': 'generate_numbers', 'tags': [], 'metadata': {}, 'data': {'chunk': 4}, 'parent_ids': []}\n",
      "{'event': 'on_chain_end', 'data': {'output': 10}, 'run_id': 'b71fc9f8-f828-460b-827d-e5f3f15baa95', 'name': 'generate_numbers', 'tags': [], 'metadata': {}, 'parent_ids': []}\n"
     ]
    }
   ],
   "source": [
    "import nest_asyncio\n",
    "nest_asyncio.apply()\n",
    "\n",
    "from langchain_core.runnables import RunnableLambda\n",
    "\n",
    "# 定义一个函数\n",
    "async def generate_numbers(x):\n",
    "    for i in range(x):\n",
    "        yield i\n",
    "\n",
    "# 创建一个 Runnable\n",
    "runnable = RunnableLambda(generate_numbers)\n",
    "\n",
    "# 流式传输事件\n",
    "async for event in runnable.astream_events(5, version=\"v2\"):\n",
    "    print(event)"
   ]
  },
  {
   "cell_type": "markdown",
   "metadata": {
    "_cell_guid": "08cd430a-8135-458d-8b36-ea4a06dd9fa7",
    "_uuid": "3f986064-b97d-4a2f-9d86-fa46e1046a07",
    "collapsed": false,
    "jupyter": {
     "outputs_hidden": false
    },
    "trusted": true
   },
   "source": [
    "---\n",
    "#\n",
    "## **5. 配置和自定义**\n",
    "这些示例突出显示如何配置和自定义 Runnables。\n",
    "#\n",
    "### **5.1. 可配置的 Runnables**\n",
    "使 Runnable 在运行时可配置。"
   ]
  },
  {
   "cell_type": "code",
   "execution_count": 33,
   "metadata": {
    "_cell_guid": "6c74ca05-443e-46a5-91aa-8b240e4e733c",
    "_uuid": "944e0894-a3f0-419b-9b6d-441101a44ed1",
    "collapsed": false,
    "execution": {
     "iopub.execute_input": "2025-02-25T16:01:16.457989Z",
     "iopub.status.busy": "2025-02-25T16:01:16.457672Z",
     "iopub.status.idle": "2025-02-25T16:01:16.474884Z",
     "shell.execute_reply": "2025-02-25T16:01:16.473905Z",
     "shell.execute_reply.started": "2025-02-25T16:01:16.457962Z"
    },
    "jupyter": {
     "outputs_hidden": false
    },
    "trusted": true
   },
   "outputs": [
    {
     "name": "stdout",
     "output_type": "stream",
     "text": [
      "15\n"
     ]
    }
   ],
   "source": [
    "from langchain_core.runnables import RunnableLambda, ConfigurableField\n",
    "\n",
    "# 定义一个可配置的函数\n",
    "def configurable_function(x, multiplier=1):\n",
    "    return x * multiplier\n",
    "\n",
    "# 创建一个带有包装函数的 RunnableLambda\n",
    "def create_runnable(multiplier=1):\n",
    "    return RunnableLambda(lambda x: configurable_function(x, multiplier))\n",
    "\n",
    "# 使 Runnable 可配置\n",
    "runnable = RunnableLambda(lambda x: create_runnable(x[\"multiplier\"]).invoke(x[\"input\"]))\n",
    "\n",
    "# 使用配置调用\n",
    "result = runnable.invoke({\"input\": 5, \"multiplier\": 3})\n",
    "print(result)  # 输出：15"
   ]
  },
  {
   "cell_type": "code",
   "execution_count": 34,
   "metadata": {
    "_cell_guid": "6a7f11a6-fa8b-4666-b2a2-5654c315a19e",
    "_uuid": "7c55c5db-e130-4cda-9f39-a6faa4494309",
    "collapsed": false,
    "execution": {
     "iopub.execute_input": "2025-02-25T16:01:16.476406Z",
     "iopub.status.busy": "2025-02-25T16:01:16.476027Z",
     "iopub.status.idle": "2025-02-25T16:01:18.507719Z",
     "shell.execute_reply": "2025-02-25T16:01:18.506366Z",
     "shell.execute_reply.started": "2025-02-25T16:01:16.476369Z"
    },
    "jupyter": {
     "outputs_hidden": false
    },
    "trusted": true
   },
   "outputs": [
    {
     "name": "stdout",
     "output_type": "stream",
     "text": [
      "Started at: 2025-02-25 16:01:16.499425+00:00\n",
      "Ended at: 2025-02-25 16:01:18.503105+00:00\n",
      "None\n"
     ]
    }
   ],
   "source": [
    "import time\n",
    "from langchain_core.runnables import RunnableLambda\n",
    "from langchain_core.tracers.schemas import Run\n",
    "\n",
    "# 定义一个函数\n",
    "def on_start(run_obj: Run):\n",
    "    print(f\"Started at: {run_obj.start_time}\")\n",
    "\n",
    "def on_end(run_obj: Run):\n",
    "    print(f\"Ended at: {run_obj.end_time}\")\n",
    "\n",
    "# 创建一个带有监听器的 Runnable\n",
    "runnable = RunnableLambda(lambda x: time.sleep(x)).with_listeners(on_start=on_start, on_end=on_end)\n",
    "print(runnable.invoke(2))  # 输出：打印开始和结束时间"
   ]
  },
  {
   "cell_type": "markdown",
   "metadata": {
    "_cell_guid": "1b4cde3d-de3f-4444-a6ed-d11e1ddf5257",
    "_uuid": "f060607e-65c6-4bf3-8963-d71376807294",
    "collapsed": false,
    "jupyter": {
     "outputs_hidden": false
    },
    "trusted": true
   },
   "source": [
    "---\n",
    "#\n",
    "## **6. 可视化和调试**\n",
    "这些示例有助于可视化和调试工作流程。\n",
    "#\n",
    "### **6.1. 图形表示**\n",
    "可视化 Runnable 链的结构。"
   ]
  },
  {
   "cell_type": "code",
   "execution_count": 35,
   "metadata": {
    "_cell_guid": "323d0460-e151-44bd-8ad8-e040cab2d031",
    "_uuid": "ac328fef-bb8d-401e-a6b4-a553925f26c6",
    "collapsed": false,
    "execution": {
     "iopub.execute_input": "2025-02-25T16:01:18.509240Z",
     "iopub.status.busy": "2025-02-25T16:01:18.508908Z",
     "iopub.status.idle": "2025-02-25T16:01:18.527603Z",
     "shell.execute_reply": "2025-02-25T16:01:18.526079Z",
     "shell.execute_reply.started": "2025-02-25T16:01:18.509212Z"
    },
    "jupyter": {
     "outputs_hidden": false
    },
    "trusted": true
   },
   "outputs": [
    {
     "name": "stdout",
     "output_type": "stream",
     "text": [
      "        +-------------+          \n",
      "        | LambdaInput |          \n",
      "        +-------------+          \n",
      "                *                \n",
      "                *                \n",
      "                *                \n",
      "           +--------+            \n",
      "           | Lambda |            \n",
      "           +--------+            \n",
      "                *                \n",
      "                *                \n",
      "                *                \n",
      "+-----------------------------+  \n",
      "| Parallel<add,multiply>Input |  \n",
      "+-----------------------------+  \n",
      "           *         *           \n",
      "         **           **         \n",
      "        *               *        \n",
      " +--------+          +--------+  \n",
      " | Lambda |          | Lambda |  \n",
      " +--------+          +--------+  \n",
      "           *         *           \n",
      "            **     **            \n",
      "              *   *              \n",
      "+------------------------------+ \n",
      "| Parallel<add,multiply>Output | \n",
      "+------------------------------+ \n"
     ]
    }
   ],
   "source": [
    "from langchain_core.runnables import RunnableLambda, RunnableParallel\n",
    "\n",
    "# 定义函数\n",
    "add_five = RunnableLambda(lambda x: x + 5)\n",
    "multiply_by_two = RunnableLambda(lambda x: x * 2)\n",
    "\n",
    "# 创建一个链\n",
    "chain = add_five | RunnableParallel(add=add_five, multiply=multiply_by_two)\n",
    "\n",
    "# 打印图形\n",
    "chain.get_graph().print_ascii()"
   ]
  },
  {
   "cell_type": "markdown",
   "metadata": {
    "_cell_guid": "ac50d4c7-ae90-4478-b43d-e149bda3b5e8",
    "_uuid": "17f2c97a-4cc7-473d-bc91-f7930613e9bc",
    "collapsed": false,
    "jupyter": {
     "outputs_hidden": false
    },
    "trusted": true
   },
   "source": [
    "---\n",
    "#\n",
    "## **7. 提示和 LLM 集成**\n",
    "这些示例重点介绍将提示和 LLM 集成到工作流程中。\n",
    "#\n",
    "### **7.1. 提示模板**\n",
    "使用 LCEL 链接提示和 LLM 调用。"
   ]
  },
  {
   "cell_type": "code",
   "execution_count": 36,
   "metadata": {
    "_cell_guid": "aa2bcf78-92a2-4e9e-a30c-69c9c332467a",
    "_uuid": "e818712b-5e81-4b64-8930-921da87104c1",
    "collapsed": false,
    "execution": {
     "iopub.execute_input": "2025-02-25T16:01:18.529492Z",
     "iopub.status.busy": "2025-02-25T16:01:18.529068Z",
     "iopub.status.idle": "2025-02-25T16:01:18.549918Z",
     "shell.execute_reply": "2025-02-25T16:01:18.548523Z",
     "shell.execute_reply.started": "2025-02-25T16:01:18.529449Z"
    },
    "jupyter": {
     "outputs_hidden": false
    },
    "trusted": true
   },
   "outputs": [
    {
     "name": "stdout",
     "output_type": "stream",
     "text": [
      "为什么鸡要过马路？为了到马路对面！\n"
     ]
    }
   ],
   "source": [
    "from langchain_core.prompts import ChatPromptTemplate\n",
    "from langchain_core.runnables import RunnableLambda\n",
    "\n",
    "# 定义一个提示模板\n",
    "prompt = ChatPromptTemplate.from_messages([\n",
    "    (\"system\", \"你是一个乐于助人的助手。\"),\n",
    "    (\"human\", \"给我讲一个关于 {topic} 的笑话。\"),\n",
    "])\n",
    "\n",
    "# 定义一个虚假的 LLM\n",
    "fake_llm = RunnableLambda(lambda prompt: \"为什么鸡要过马路？为了到马路对面！\")\n",
    "\n",
    "# 链接提示和 LLM\n",
    "chain = prompt | fake_llm\n",
    "result = chain.invoke({\"topic\": \"chickens\"})  # 输出：\"为什么鸡要过马路？为了到马路对面！\"\n",
    "print(result)"
   ]
  },
  {
   "cell_type": "markdown",
   "metadata": {
    "_cell_guid": "44180448-e263-4d65-84cd-cb125425470c",
    "_uuid": "8fe94f24-71d0-49e5-a173-010d3cf576d7",
    "collapsed": false,
    "jupyter": {
     "outputs_hidden": false
    },
    "trusted": true
   },
   "source": [
    "### **7.2. 多步骤提示链接**\n",
    "将多个提示链接在一起以创建更复杂的工作流程。"
   ]
  },
  {
   "cell_type": "code",
   "execution_count": 37,
   "metadata": {
    "_cell_guid": "19869b6a-0f60-4748-ad0c-1e6d4b03aa7f",
    "_uuid": "995cbb3a-aeda-4d74-a74b-f06881e07189",
    "collapsed": false,
    "execution": {
     "iopub.execute_input": "2025-02-25T16:01:18.552130Z",
     "iopub.status.busy": "2025-02-25T16:01:18.551638Z",
     "iopub.status.idle": "2025-02-25T16:01:18.579417Z",
     "shell.execute_reply": "2025-02-25T16:01:18.578103Z",
     "shell.execute_reply.started": "2025-02-25T16:01:18.552090Z"
    },
    "jupyter": {
     "outputs_hidden": false
    },
    "trusted": true
   },
   "outputs": [
    {
     "name": "stdout",
     "output_type": "stream",
     "text": [
      "从前，有一个勇敢的骑士，他从一条龙手中拯救了一个村庄。\n"
     ]
    }
   ],
   "source": [
    "from langchain_core.prompts import ChatPromptTemplate\n",
    "from langchain_core.runnables import RunnableLambda\n",
    "\n",
    "# 定义第一个提示模板\n",
    "prompt1 = ChatPromptTemplate.from_messages([\n",
    "    (\"system\", \"你是一个乐于助人的助手。\"),\n",
    "    (\"human\", \"生成一个关于 {topic} 的短篇故事。\"),\n",
    "])\n",
    "\n",
    "# 定义第二个提示模板\n",
    "prompt2 = ChatPromptTemplate.from_messages([\n",
    "    (\"system\", \"你是一个乐于助人的助手。\"),\n",
    "    (\"human\", \"用一句话概括以下故事：{story}\"),\n",
    "])\n",
    "\n",
    "# 定义一个虚假的 LLM\n",
    "fake_llm = RunnableLambda(lambda prompt: \"从前，有一个勇敢的骑士，他从一条龙手中拯救了一个村庄。\")\n",
    "\n",
    "# 链接提示和 LLM\n",
    "chain = (\n",
    "    prompt1  # 生成一个故事\n",
    "    | fake_llm  # 使用虚假的 LLM 生成故事\n",
    "    | {\"story\": RunnablePassthrough()}  # 将故事传递到下一步\n",
    "    | prompt2  # 概括故事\n",
    "    | fake_llm  # 使用虚假的 LLM 进行概括\n",
    ")\n",
    "\n",
    "# 调用链\n",
    "result = chain.invoke({\"topic\": \"a brave knight\"})\n",
    "print(result)"
   ]
  },
  {
   "cell_type": "markdown",
   "metadata": {
    "_cell_guid": "b7cdfa3d-6961-4bb2-b89b-a8a820e2e7ac",
    "_uuid": "a24888b6-ec9a-46c8-9e12-afe0c7d6cba1",
    "collapsed": false,
    "jupyter": {
     "outputs_hidden": false
    },
    "trusted": true
   },
   "source": [
    "## **结论**\n",
    "#\n",
    "本备忘单中提供的示例演示了 **LangChain Expression Language (LCEL)** 在构建复杂工作流程方面的多功能性和强大功能。从基本组成和链接到错误处理、动态输入操作和提示模板等高级功能，LCEL 提供了一种灵活且直观的方式来创建强大且可扩展的应用程序。以下是每个类别的关键要点的总结：\n",
    "#\n",
    "1. **核心组成和链接**：\n",
    "   - LCEL 允许您使用管道 (`|`) 运算符链接 Runnables，从而实现函数的无缝组合。\n",
    "   - 使用 `RunnableParallel` 的并行执行使您可以同时运行多个 Runnables 并组合它们的输出。\n",
    "   - 条件逻辑和动态链构建使工作流程能够根据输入条件进行调整。\n",
    "#\n",
    "2. **错误处理和鲁棒性**：\n",
    "   - 回退机制和重试逻辑确保工作流程可以优雅地处理错误并从故障中恢复。\n",
    "#\n",
    "3. **输入和输出操作**：\n",
    "   - 动态输入修改和子集提取使您可以操作数据，因为它在链中流动。\n",
    "   - 嵌套输入操作演示了如何在复杂的工作流程中添加新键或修改输入。\n",
    "#\n",
    "4. **批量和流式传输**：\n",
    "   - 批量处理和流式传输功能使您可以轻松处理多个输入或递增地处理数据。\n",
    "   - 事件流式传输提供了对 Runnables 执行的可视性，从而可以更好地调试和监视。\n",
    "#\n",
    "5. **配置和自定义**：\n",
    "   - 可配置的 Runnables 允许您在运行时自定义行为，从而使工作流程更具适应性。\n",
    "   - 生命周期监听器可以跟踪执行开始和结束时间，从而为您的工作流程添加可观察性。\n",
    "#\n",
    "6. **可视化和调试**：\n",
    "   - 图形表示工具可帮助可视化 Runnable 链的结构，从而更容易理解和调试复杂的工作流程。\n",
    "#\n",
    "7. **提示和 LLM 集成**：\n",
    "   - 提示模板和多步骤提示链接允许您动态地将 LLM 集成到工作流程中。\n",
    "   - 示例演示了如何根据输入条件生成和格式化提示，从而实现与 LLM 的自适应交互。\n",
    "#\n",
    "这些示例突出了 LCEL 的灵活性和强大功能，使其成为构建复杂的 LangChain 应用程序的开发人员的重要工具。无论您是创建简单的管道还是复杂的工作流程，LCEL 都提供了构建块，可以高效且有效地实现它。通过掌握这些概念，您可以释放 LangChain 的全部潜力并构建既强大又可扩展的应用程序。"
   ]
  }
 ],
 "metadata": {
  "kaggle": {
   "accelerator": "none",
   "dataSources": [],
   "dockerImageVersionId": 30839,
   "isGpuEnabled": false,
   "isInternetEnabled": true,
   "language": "python",
   "sourceType": "notebook"
  },
  "kernelspec": {
   "display_name": "Python 3",
   "language": "python",
   "name": "python3"
  },
  "language_info": {
   "codemirror_mode": {
    "name": "ipython",
    "version": 3
   },
   "file_extension": ".py",
   "mimetype": "text/x-python",
   "name": "python",
   "nbconvert_exporter": "python",
   "pygments_lexer": "ipython3",
   "version": "3.10.12"
  }
 },
 "nbformat": 4,
 "nbformat_minor": 4
}
